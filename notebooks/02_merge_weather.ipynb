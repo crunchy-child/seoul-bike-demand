{
 "cells": [
  {
   "cell_type": "markdown",
   "id": "6edd0d75",
   "metadata": {},
   "source": [
    "# 📘 02_merge_weather.ipynb\n",
    "## 🧩 Purpose\n",
    "This notebook merges the public bike rental data with the daily weather data of Seoul, in order to enable analysis and modeling based on environmental factors.\n",
    "\n",
    "## 📥 Input Datasets\n",
    "- data/processed/merged_bike_data.csv: Preprocessed bike rental logs (June to August 2023)\n",
    "- data/raw/seoul_weather.csv: Daily weather data (temperature, precipitation, wind, humidity)\n",
    "\n",
    "## 🎯 Goal\n",
    "- Drop unnecessary columns from merged_bike_data\n",
    "- Convert both datasets to a common date format\n",
    "- Merge them using date as the key\n",
    "- Save the final merged dataset to data/processed/bike_with_weather.csv\n",
    "\n",
    "## ✅ Output\n",
    "- bike_with_weather.csv: Merged dataset combining bike rentals and weather conditions"
   ]
  },
  {
   "cell_type": "code",
   "execution_count": 1,
   "id": "cce10981",
   "metadata": {},
   "outputs": [],
   "source": [
    "import pandas as pd"
   ]
  },
  {
   "cell_type": "code",
   "execution_count": 2,
   "id": "8178c172",
   "metadata": {},
   "outputs": [],
   "source": [
    "# Bike data set(preprocessed) \n",
    "bike_df = pd.read_csv('/Users/crunchy__child/seoul-bike-demand/data/processed/merged_bike_data.csv')\n",
    "\n",
    "# Weather data set(Need to preprocess data)\n",
    "# Column names is in 3rd row\n",
    "weather_df = pd.read_csv('/Users/crunchy__child/seoul-bike-demand/data/raw/seoul_weather.csv', encoding='cp949', header = 2)"
   ]
  },
  {
   "cell_type": "code",
   "execution_count": 3,
   "id": "f274e4c5",
   "metadata": {},
   "outputs": [],
   "source": [
    "# Change column names to english\n",
    "weather_df.columns = [\n",
    "    'station_id', \n",
    "    'station_name', \n",
    "    'date', \n",
    "    'avg_temp_C', \n",
    "    'min_temp_C', \n",
    "    'max_temp_C', \n",
    "    'daily_rain_mm', \n",
    "    'avg_wind_mps', \n",
    "    'avg_humidity_pct', \n",
    "    'total_sunlight_hr'\n",
    "]\n",
    "\n",
    "# Check\n",
    "# weather_df.head()"
   ]
  },
  {
   "cell_type": "code",
   "execution_count": 4,
   "id": "471d0dd6",
   "metadata": {},
   "outputs": [
    {
     "name": "stdout",
     "output_type": "stream",
     "text": [
      "(92, 10)\n",
      "<class 'pandas.core.frame.DataFrame'>\n",
      "RangeIndex: 92 entries, 0 to 91\n",
      "Data columns (total 10 columns):\n",
      " #   Column             Non-Null Count  Dtype  \n",
      "---  ------             --------------  -----  \n",
      " 0   station_id         92 non-null     int64  \n",
      " 1   station_name       92 non-null     object \n",
      " 2   date               92 non-null     object \n",
      " 3   avg_temp_C         92 non-null     float64\n",
      " 4   min_temp_C         92 non-null     float64\n",
      " 5   max_temp_C         92 non-null     float64\n",
      " 6   daily_rain_mm      55 non-null     float64\n",
      " 7   avg_wind_mps       92 non-null     float64\n",
      " 8   avg_humidity_pct   92 non-null     float64\n",
      " 9   total_sunlight_hr  92 non-null     float64\n",
      "dtypes: float64(7), int64(1), object(2)\n",
      "memory usage: 7.3+ KB\n",
      "None\n",
      "       station_id  avg_temp_C  min_temp_C  max_temp_C  daily_rain_mm  \\\n",
      "count        92.0   92.000000   92.000000   92.000000      55.000000   \n",
      "mean        108.0   25.784783   22.667391   29.622826      17.338182   \n",
      "std           0.0    2.792845    2.746591    3.336054      24.901127   \n",
      "min         108.0   20.300000   16.600000   22.100000       0.000000   \n",
      "25%         108.0   23.650000   20.975000   26.475000       0.250000   \n",
      "50%         108.0   25.850000   23.200000   29.800000       2.500000   \n",
      "75%         108.0   28.200000   24.700000   32.525000      30.450000   \n",
      "max         108.0   30.900000   27.300000   35.800000      91.600000   \n",
      "\n",
      "       avg_wind_mps  avg_humidity_pct  total_sunlight_hr  \n",
      "count     92.000000         92.000000          92.000000  \n",
      "mean       2.160870         76.665217           5.405435  \n",
      "std        0.484928          9.775619           4.190501  \n",
      "min        1.100000         57.100000           0.000000  \n",
      "25%        1.900000         70.000000           1.200000  \n",
      "50%        2.100000         75.750000           5.700000  \n",
      "75%        2.325000         83.525000           8.875000  \n",
      "max        3.700000         99.100000          13.300000  \n"
     ]
    }
   ],
   "source": [
    "# Data size (Row, Column)\n",
    "print(weather_df.shape)\n",
    "\n",
    "# Check the data type\n",
    "print(weather_df.info())\n",
    "\n",
    "# Statistically Summary\n",
    "print(weather_df.describe())"
   ]
  },
  {
   "cell_type": "code",
   "execution_count": 5,
   "id": "a84359e9",
   "metadata": {},
   "outputs": [
    {
     "name": "stdout",
     "output_type": "stream",
     "text": [
      "station_id            0\n",
      "station_name          0\n",
      "date                  0\n",
      "avg_temp_C            0\n",
      "min_temp_C            0\n",
      "max_temp_C            0\n",
      "daily_rain_mm        37\n",
      "avg_wind_mps          0\n",
      "avg_humidity_pct      0\n",
      "total_sunlight_hr     0\n",
      "dtype: int64\n",
      "station_id           0.000000\n",
      "station_name         0.000000\n",
      "date                 0.000000\n",
      "avg_temp_C           0.000000\n",
      "min_temp_C           0.000000\n",
      "max_temp_C           0.000000\n",
      "daily_rain_mm        0.402174\n",
      "avg_wind_mps         0.000000\n",
      "avg_humidity_pct     0.000000\n",
      "total_sunlight_hr    0.000000\n",
      "dtype: float64\n"
     ]
    }
   ],
   "source": [
    "# Missing value by column\n",
    "print(weather_df.isnull().sum())\n",
    "\n",
    "# Missing value rate by column\n",
    "print(weather_df.isnull().mean())"
   ]
  },
  {
   "cell_type": "code",
   "execution_count": 6,
   "id": "16004498",
   "metadata": {},
   "outputs": [],
   "source": [
    "# Since daily_rain_mm value for non rainy day is Nan, replaces it to 0\n",
    "weather_df['daily_rain_mm'] = weather_df['daily_rain_mm'].fillna(0)\n",
    "\n",
    "# Check\n",
    "# print(weather_df.isnull().sum())"
   ]
  },
  {
   "cell_type": "code",
   "execution_count": 7,
   "id": "f9b5b1f5",
   "metadata": {},
   "outputs": [],
   "source": [
    "# 1. Convert to datetime (put errors='coerce' to filter invalid form)\n",
    "weather_df['date'] = pd.to_datetime(weather_df['date'], errors='coerce')\n",
    "\n",
    "# Check the number of NaT (Optional, but necessary if the data is large like yearly)\n",
    "# print(weather_df['date'].isna().sum())\n",
    "\n",
    "# 2. Drop filtered(NaT) row\n",
    "weather_df = weather_df.dropna(subset=['date'])\n",
    "\n",
    "# 3. Filter the range of date (2023-06-01~2023-08-31)\n",
    "weather_df = weather_df[(weather_df['date'] >= '2023-06-01') & (weather_df['date'] <= '2023-08-31')]"
   ]
  },
  {
   "cell_type": "code",
   "execution_count": 8,
   "id": "aea91e45",
   "metadata": {},
   "outputs": [],
   "source": [
    "# Create derived variable\n",
    "\n",
    "# Daily temperature range\n",
    "weather_df['temp_range'] = weather_df['max_temp_C'] - weather_df['min_temp_C']\n",
    "\n",
    "# True(1) if it rained, False(0) otherwise\n",
    "weather_df['rain_binary'] = weather_df['daily_rain_mm'].apply(lambda x: 1 if x > 0 else 0)"
   ]
  },
  {
   "cell_type": "code",
   "execution_count": 9,
   "id": "91ce72d8",
   "metadata": {},
   "outputs": [],
   "source": [
    "# Drop unnecessary columns from merged_bike_data\n",
    "columns_to_keep = [\n",
    "    'rental_datetime', 'rental_station_name', 'duration_min', 'distance_m',\n",
    "    'rental_year', 'rental_month', 'rental_day', 'rental_weekday', 'rental_hour', 'is_weekend'\n",
    "]\n",
    "\n",
    "bike_df = bike_df[columns_to_keep]\n"
   ]
  },
  {
   "cell_type": "code",
   "execution_count": null,
   "id": "5a1acd56",
   "metadata": {},
   "outputs": [],
   "source": [
    "# Convert rental_datetime column to datetime and get date from rental_datetime\n",
    "bike_df['rental_datetime'] = pd.to_datetime(bike_df['rental_datetime'], errors='coerce')\n",
    "bike_df['date'] = bike_df['rental_datetime'].dt.normalize()\n",
    "\n",
    "# Convert date column to datetime\n",
    "weather_df['date'] = pd.to_datetime(weather_df['date'])\n",
    "\n",
    "# Merge two data set using date column\n",
    "merged_df = pd.merge(bike_df, weather_df, on='date', how='left')\n",
    "\n",
    "# Drop unnecessary columns\n",
    "merged_df = merged_df.drop(columns=['date', 'station_name', 'station_id'])\n",
    "\n",
    "# Check\n",
    "# print(merged_df.head())"
   ]
  },
  {
   "cell_type": "code",
   "execution_count": 13,
   "id": "47d15ca8",
   "metadata": {},
   "outputs": [],
   "source": [
    "# Store merged csv file\n",
    "merged_df.to_csv(\"/Users/crunchy__child/seoul-bike-demand/data/processed/bike_with_weather.csv\", index=False)\n"
   ]
  }
 ],
 "metadata": {
  "kernelspec": {
   "display_name": "seoulbike",
   "language": "python",
   "name": "python3"
  },
  "language_info": {
   "codemirror_mode": {
    "name": "ipython",
    "version": 3
   },
   "file_extension": ".py",
   "mimetype": "text/x-python",
   "name": "python",
   "nbconvert_exporter": "python",
   "pygments_lexer": "ipython3",
   "version": "3.10.18"
  }
 },
 "nbformat": 4,
 "nbformat_minor": 5
}
